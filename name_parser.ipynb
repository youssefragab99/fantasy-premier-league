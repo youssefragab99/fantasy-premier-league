{
 "cells": [
  {
   "cell_type": "markdown",
   "id": "30fd54fd",
   "metadata": {},
   "source": [
    "# Name Parser\n",
    "\n",
    "## Goal\n",
    "\n",
    "- Parse the name of a player into a first name and last name\n",
    "- Standardize the name of all players across all seasons\n",
    "\n",
    "## Methodology \n",
    "- Create a new table with player uuids that will be used across all seasons\n",
    "- This table will have the following columns:\n",
    "    - player_uuid\n",
    "    - first_name\n",
    "    - last_name\n",
    "    - full_name\n"
   ]
  },
  {
   "cell_type": "code",
   "execution_count": 1,
   "id": "997ce28f",
   "metadata": {},
   "outputs": [],
   "source": [
    "import re\n",
    "\n",
    "# Name formats in different seasons\n",
    "s_16_17 = \"First_Last\"\n",
    "s_17_18 = \"First_Last\"\n",
    "s_18_19 = \"First_Last_number\"\n",
    "s_19_20 = \"First_Last_number\"\n",
    "s_20_21 = \"First Last\"\n",
    "s_21_22 = \"First Last\"\n",
    "s_22_23 = \"First Last\"\n",
    "s_23_24 = \"First Last\"\n",
    "\n",
    "name_formats = {\n",
    "    \"player_gameweek_history_2016_17\": s_16_17,\n",
    "    \"player_gameweek_history_2017_18\": s_17_18,\n",
    "    \"player_gameweek_history_2018_19\": s_18_19,\n",
    "    \"player_gameweek_history_2019_20\": s_19_20,\n",
    "    \"player_gameweek_history_2020_21\": s_20_21,\n",
    "    \"player_gameweek_history_2021_22\": s_21_22,\n",
    "    \"player_gameweek_history_2022_23\": s_22_23,\n",
    "    \"player_gameweek_history_2023_24\": s_23_24,\n",
    "}\n",
    "\n",
    "\n",
    "def convert_name(name, season):\n",
    "    name = remove_underscore(name)\n",
    "    name = remove_number(name)\n",
    "    name = remove_special_characters(name)\n",
    "    return name\n",
    "\n",
    "\n",
    "def remove_underscore(name):\n",
    "    return name.replace(\"_\", \" \")\n",
    "\n",
    "\n",
    "def remove_number(name):\n",
    "    return re.sub(r\"\\d+\", \"\", name)\n",
    "\n",
    "\n",
    "def remove_special_characters(name):\n",
    "    return re.sub(r\"[^a-zA-Z0-9\\s]\", \"\", name)"
   ]
  },
  {
   "cell_type": "code",
   "execution_count": 2,
   "id": "38f40250",
   "metadata": {},
   "outputs": [
    {
     "name": "stdout",
     "output_type": "stream",
     "text": [
      "Testing name parsing functions:\n",
      "Original: Mohamed_Salah -> Cleaned: Mohamed Salah\n",
      "Original: Kevin_De_Bruyne -> Cleaned: Kevin De Bruyne\n",
      "Original: Harry_Kane_1 -> Cleaned: Harry Kane \n",
      "Original: Erling_Haaland_2 -> Cleaned: Erling Haaland \n",
      "Original: Bruno_Fernandes -> Cleaned: Bruno Fernandes\n",
      "Original: Son_Heung_min -> Cleaned: Son Heung min\n"
     ]
    }
   ],
   "source": [
    "# Test the name parsing functions first\n",
    "test_names = [\n",
    "    \"Mohamed_Salah\",\n",
    "    \"Kevin_De_Bruyne\",\n",
    "    \"Harry_Kane_1\",\n",
    "    \"Erling_Haaland_2\",\n",
    "    \"Bruno_Fernandes\",\n",
    "    \"Son_Heung_min\",\n",
    "]\n",
    "\n",
    "print(\"Testing name parsing functions:\")\n",
    "for name in test_names:\n",
    "    cleaned = convert_name(name, \"test\")\n",
    "    print(f\"Original: {name} -> Cleaned: {cleaned}\")"
   ]
  },
  {
   "cell_type": "code",
   "execution_count": 4,
   "id": "355f81a6",
   "metadata": {},
   "outputs": [
    {
     "name": "stderr",
     "output_type": "stream",
     "text": [
      "/Users/youssefragab/Desktop/Github/fantasy-premier-league/fantasy_premier_league/models/team.py:13: SAWarning: This declarative base already contains a class with the same class name and module name as fantasy_premier_league.models.team.Team, and will be replaced in the string-lookup table.\n",
      "  class Team(Base):\n"
     ]
    },
    {
     "ename": "ArgumentError",
     "evalue": "Mapper Mapper[PlayerGameweekHistory19_20(player_gameweek_history_2019_20)] could not assemble any primary key columns for mapped table 'player_gameweek_history_2019_20'",
     "output_type": "error",
     "traceback": [
      "\u001b[31m---------------------------------------------------------------------------\u001b[39m",
      "\u001b[31mArgumentError\u001b[39m                             Traceback (most recent call last)",
      "\u001b[36mCell\u001b[39m\u001b[36m \u001b[39m\u001b[32mIn[4]\u001b[39m\u001b[32m, line 5\u001b[39m\n\u001b[32m      2\u001b[39m \u001b[38;5;28;01mfrom\u001b[39;00m\u001b[38;5;250m \u001b[39m\u001b[34;01msqlalchemy\u001b[39;00m\u001b[38;5;250m \u001b[39m\u001b[38;5;28;01mimport\u001b[39;00m select\n\u001b[32m      4\u001b[39m \u001b[38;5;28;01mfrom\u001b[39;00m\u001b[38;5;250m \u001b[39m\u001b[34;01mfantasy_premier_league\u001b[39;00m\u001b[34;01m.\u001b[39;00m\u001b[34;01mdatabase\u001b[39;00m\u001b[38;5;250m \u001b[39m\u001b[38;5;28;01mimport\u001b[39;00m get_db_session\n\u001b[32m----> \u001b[39m\u001b[32m5\u001b[39m \u001b[38;5;28;01mfrom\u001b[39;00m\u001b[38;5;250m \u001b[39m\u001b[34;01mfantasy_premier_league\u001b[39;00m\u001b[34;01m.\u001b[39;00m\u001b[34;01mmodels\u001b[39;00m\u001b[34;01m.\u001b[39;00m\u001b[34;01mplayer_gameweek_history\u001b[39;00m\u001b[38;5;250m \u001b[39m\u001b[38;5;28;01mimport\u001b[39;00m PlayerGameweekHistory16_17\n\u001b[32m      7\u001b[39m query = select(PlayerGameweekHistory16_17)\n\u001b[32m      9\u001b[39m \u001b[38;5;28;01mwith\u001b[39;00m get_db_session() \u001b[38;5;28;01mas\u001b[39;00m session:\n",
      "\u001b[36mFile \u001b[39m\u001b[32m~/Desktop/Github/fantasy-premier-league/fantasy_premier_league/models/player_gameweek_history.py:208\u001b[39m\n\u001b[32m    204\u001b[39m     yellow_cards = Column(Integer, nullable=\u001b[38;5;28;01mTrue\u001b[39;00m)\n\u001b[32m    205\u001b[39m     GW = Column(Integer, nullable=\u001b[38;5;28;01mTrue\u001b[39;00m)\n\u001b[32m--> \u001b[39m\u001b[32m208\u001b[39m \u001b[38;5;28;43;01mclass\u001b[39;49;00m\u001b[38;5;250;43m \u001b[39;49m\u001b[34;43;01mPlayerGameweekHistory19_20\u001b[39;49;00m\u001b[43m(\u001b[49m\u001b[43mBase\u001b[49m\u001b[43m)\u001b[49m\u001b[43m:\u001b[49m\n\u001b[32m    209\u001b[39m \u001b[38;5;250;43m    \u001b[39;49m\u001b[33;43;03m\"\"\"\u001b[39;49;00m\n\u001b[32m    210\u001b[39m \u001b[33;43;03m    Player gameweek history model representing individual gameweeks.\u001b[39;49;00m\n\u001b[32m    211\u001b[39m \u001b[33;43;03m    \"\"\"\u001b[39;49;00m\n\u001b[32m    213\u001b[39m \u001b[43m    \u001b[49m\u001b[43m__tablename__\u001b[49m\u001b[43m \u001b[49m\u001b[43m=\u001b[49m\u001b[43m \u001b[49m\u001b[33;43m\"\u001b[39;49m\u001b[33;43mplayer_gameweek_history_2019_20\u001b[39;49m\u001b[33;43m\"\u001b[39;49m\n",
      "\u001b[36mFile \u001b[39m\u001b[32m~/Desktop/Github/fantasy-premier-league/.venv/lib/python3.11/site-packages/sqlalchemy/orm/decl_api.py:845\u001b[39m, in \u001b[36mDeclarativeBase.__init_subclass__\u001b[39m\u001b[34m(cls, **kw)\u001b[39m\n\u001b[32m    843\u001b[39m     _setup_declarative_base(\u001b[38;5;28mcls\u001b[39m)\n\u001b[32m    844\u001b[39m \u001b[38;5;28;01melse\u001b[39;00m:\n\u001b[32m--> \u001b[39m\u001b[32m845\u001b[39m     \u001b[43m_as_declarative\u001b[49m\u001b[43m(\u001b[49m\u001b[38;5;28;43mcls\u001b[39;49m\u001b[43m.\u001b[49m\u001b[43m_sa_registry\u001b[49m\u001b[43m,\u001b[49m\u001b[43m \u001b[49m\u001b[38;5;28;43mcls\u001b[39;49m\u001b[43m,\u001b[49m\u001b[43m \u001b[49m\u001b[38;5;28;43mcls\u001b[39;49m\u001b[43m.\u001b[49m\u001b[34;43m__dict__\u001b[39;49m\u001b[43m)\u001b[49m\n\u001b[32m    846\u001b[39m \u001b[38;5;28msuper\u001b[39m().__init_subclass__(**kw)\n",
      "\u001b[36mFile \u001b[39m\u001b[32m~/Desktop/Github/fantasy-premier-league/.venv/lib/python3.11/site-packages/sqlalchemy/orm/decl_base.py:245\u001b[39m, in \u001b[36m_as_declarative\u001b[39m\u001b[34m(registry, cls, dict_)\u001b[39m\n\u001b[32m    240\u001b[39m \u001b[38;5;28;01mdef\u001b[39;00m\u001b[38;5;250m \u001b[39m\u001b[34m_as_declarative\u001b[39m(\n\u001b[32m    241\u001b[39m     registry: _RegistryType, \u001b[38;5;28mcls\u001b[39m: Type[Any], dict_: _ClassDict\n\u001b[32m    242\u001b[39m ) -> Optional[_MapperConfig]:\n\u001b[32m    243\u001b[39m     \u001b[38;5;66;03m# declarative scans the class for attributes.  no table or mapper\u001b[39;00m\n\u001b[32m    244\u001b[39m     \u001b[38;5;66;03m# args passed separately.\u001b[39;00m\n\u001b[32m--> \u001b[39m\u001b[32m245\u001b[39m     \u001b[38;5;28;01mreturn\u001b[39;00m \u001b[43m_MapperConfig\u001b[49m\u001b[43m.\u001b[49m\u001b[43msetup_mapping\u001b[49m\u001b[43m(\u001b[49m\u001b[43mregistry\u001b[49m\u001b[43m,\u001b[49m\u001b[43m \u001b[49m\u001b[38;5;28;43mcls\u001b[39;49m\u001b[43m,\u001b[49m\u001b[43m \u001b[49m\u001b[43mdict_\u001b[49m\u001b[43m,\u001b[49m\u001b[43m \u001b[49m\u001b[38;5;28;43;01mNone\u001b[39;49;00m\u001b[43m,\u001b[49m\u001b[43m \u001b[49m\u001b[43m{\u001b[49m\u001b[43m}\u001b[49m\u001b[43m)\u001b[49m\n",
      "\u001b[36mFile \u001b[39m\u001b[32m~/Desktop/Github/fantasy-premier-league/.venv/lib/python3.11/site-packages/sqlalchemy/orm/decl_base.py:326\u001b[39m, in \u001b[36m_MapperConfig.setup_mapping\u001b[39m\u001b[34m(cls, registry, cls_, dict_, table, mapper_kw)\u001b[39m\n\u001b[32m    322\u001b[39m     \u001b[38;5;28;01mreturn\u001b[39;00m _DeferredMapperConfig(\n\u001b[32m    323\u001b[39m         registry, cls_, dict_, table, mapper_kw\n\u001b[32m    324\u001b[39m     )\n\u001b[32m    325\u001b[39m \u001b[38;5;28;01melse\u001b[39;00m:\n\u001b[32m--> \u001b[39m\u001b[32m326\u001b[39m     \u001b[38;5;28;01mreturn\u001b[39;00m \u001b[43m_ClassScanMapperConfig\u001b[49m\u001b[43m(\u001b[49m\n\u001b[32m    327\u001b[39m \u001b[43m        \u001b[49m\u001b[43mregistry\u001b[49m\u001b[43m,\u001b[49m\u001b[43m \u001b[49m\u001b[43mcls_\u001b[49m\u001b[43m,\u001b[49m\u001b[43m \u001b[49m\u001b[43mdict_\u001b[49m\u001b[43m,\u001b[49m\u001b[43m \u001b[49m\u001b[43mtable\u001b[49m\u001b[43m,\u001b[49m\u001b[43m \u001b[49m\u001b[43mmapper_kw\u001b[49m\n\u001b[32m    328\u001b[39m \u001b[43m    \u001b[49m\u001b[43m)\u001b[49m\n",
      "\u001b[36mFile \u001b[39m\u001b[32m~/Desktop/Github/fantasy-premier-league/.venv/lib/python3.11/site-packages/sqlalchemy/orm/decl_base.py:581\u001b[39m, in \u001b[36m_ClassScanMapperConfig.__init__\u001b[39m\u001b[34m(self, registry, cls_, dict_, table, mapper_kw)\u001b[39m\n\u001b[32m    577\u001b[39m \u001b[38;5;28mself\u001b[39m._setup_table(table)\n\u001b[32m    579\u001b[39m \u001b[38;5;28mself\u001b[39m._setup_inheriting_columns(mapper_kw)\n\u001b[32m--> \u001b[39m\u001b[32m581\u001b[39m \u001b[38;5;28;43mself\u001b[39;49m\u001b[43m.\u001b[49m\u001b[43m_early_mapping\u001b[49m\u001b[43m(\u001b[49m\u001b[43mmapper_kw\u001b[49m\u001b[43m)\u001b[49m\n",
      "\u001b[36mFile \u001b[39m\u001b[32m~/Desktop/Github/fantasy-premier-league/.venv/lib/python3.11/site-packages/sqlalchemy/orm/decl_base.py:367\u001b[39m, in \u001b[36m_MapperConfig._early_mapping\u001b[39m\u001b[34m(self, mapper_kw)\u001b[39m\n\u001b[32m    366\u001b[39m \u001b[38;5;28;01mdef\u001b[39;00m\u001b[38;5;250m \u001b[39m\u001b[34m_early_mapping\u001b[39m(\u001b[38;5;28mself\u001b[39m, mapper_kw: _MapperKwArgs) -> \u001b[38;5;28;01mNone\u001b[39;00m:\n\u001b[32m--> \u001b[39m\u001b[32m367\u001b[39m     \u001b[38;5;28;43mself\u001b[39;49m\u001b[43m.\u001b[49m\u001b[43mmap\u001b[49m\u001b[43m(\u001b[49m\u001b[43mmapper_kw\u001b[49m\u001b[43m)\u001b[49m\n",
      "\u001b[36mFile \u001b[39m\u001b[32m~/Desktop/Github/fantasy-premier-league/.venv/lib/python3.11/site-packages/sqlalchemy/orm/decl_base.py:1995\u001b[39m, in \u001b[36m_ClassScanMapperConfig.map\u001b[39m\u001b[34m(self, mapper_kw)\u001b[39m\n\u001b[32m   1990\u001b[39m \u001b[38;5;28;01melse\u001b[39;00m:\n\u001b[32m   1991\u001b[39m     mapper_cls = Mapper\n\u001b[32m   1993\u001b[39m \u001b[38;5;28;01mreturn\u001b[39;00m \u001b[38;5;28mself\u001b[39m.set_cls_attribute(\n\u001b[32m   1994\u001b[39m     \u001b[33m\"\u001b[39m\u001b[33m__mapper__\u001b[39m\u001b[33m\"\u001b[39m,\n\u001b[32m-> \u001b[39m\u001b[32m1995\u001b[39m     \u001b[43mmapper_cls\u001b[49m\u001b[43m(\u001b[49m\u001b[38;5;28;43mself\u001b[39;49m\u001b[43m.\u001b[49m\u001b[43mcls\u001b[49m\u001b[43m,\u001b[49m\u001b[43m \u001b[49m\u001b[38;5;28;43mself\u001b[39;49m\u001b[43m.\u001b[49m\u001b[43mlocal_table\u001b[49m\u001b[43m,\u001b[49m\u001b[43m \u001b[49m\u001b[43m*\u001b[49m\u001b[43m*\u001b[49m\u001b[38;5;28;43mself\u001b[39;49m\u001b[43m.\u001b[49m\u001b[43mmapper_args\u001b[49m\u001b[43m)\u001b[49m,\n\u001b[32m   1996\u001b[39m )\n",
      "\u001b[36mFile \u001b[39m\u001b[32m<string>:2\u001b[39m, in \u001b[36m__init__\u001b[39m\u001b[34m(self, class_, local_table, properties, primary_key, non_primary, inherits, inherit_condition, inherit_foreign_keys, always_refresh, version_id_col, version_id_generator, polymorphic_on, _polymorphic_map, polymorphic_identity, concrete, with_polymorphic, polymorphic_abstract, polymorphic_load, allow_partial_pks, batch, column_prefix, include_properties, exclude_properties, passive_updates, passive_deletes, confirm_deleted_rows, eager_defaults, legacy_is_orphan, _compiled_cache_size)\u001b[39m\n",
      "\u001b[36mFile \u001b[39m\u001b[32m~/Desktop/Github/fantasy-premier-league/.venv/lib/python3.11/site-packages/sqlalchemy/util/deprecations.py:281\u001b[39m, in \u001b[36mdeprecated_params.<locals>.decorate.<locals>.warned\u001b[39m\u001b[34m(fn, *args, **kwargs)\u001b[39m\n\u001b[32m    274\u001b[39m     \u001b[38;5;28;01mif\u001b[39;00m m \u001b[38;5;129;01min\u001b[39;00m kwargs:\n\u001b[32m    275\u001b[39m         _warn_with_version(\n\u001b[32m    276\u001b[39m             messages[m],\n\u001b[32m    277\u001b[39m             versions[m],\n\u001b[32m    278\u001b[39m             version_warnings[m],\n\u001b[32m    279\u001b[39m             stacklevel=\u001b[32m3\u001b[39m,\n\u001b[32m    280\u001b[39m         )\n\u001b[32m--> \u001b[39m\u001b[32m281\u001b[39m \u001b[38;5;28;01mreturn\u001b[39;00m \u001b[43mfn\u001b[49m\u001b[43m(\u001b[49m\u001b[43m*\u001b[49m\u001b[43margs\u001b[49m\u001b[43m,\u001b[49m\u001b[43m \u001b[49m\u001b[43m*\u001b[49m\u001b[43m*\u001b[49m\u001b[43mkwargs\u001b[49m\u001b[43m)\u001b[49m\n",
      "\u001b[36mFile \u001b[39m\u001b[32m~/Desktop/Github/fantasy-premier-league/.venv/lib/python3.11/site-packages/sqlalchemy/orm/mapper.py:866\u001b[39m, in \u001b[36mMapper.__init__\u001b[39m\u001b[34m(self, class_, local_table, properties, primary_key, non_primary, inherits, inherit_condition, inherit_foreign_keys, always_refresh, version_id_col, version_id_generator, polymorphic_on, _polymorphic_map, polymorphic_identity, concrete, with_polymorphic, polymorphic_abstract, polymorphic_load, allow_partial_pks, batch, column_prefix, include_properties, exclude_properties, passive_updates, passive_deletes, confirm_deleted_rows, eager_defaults, legacy_is_orphan, _compiled_cache_size)\u001b[39m\n\u001b[32m    864\u001b[39m \u001b[38;5;28mself\u001b[39m._configure_properties()\n\u001b[32m    865\u001b[39m \u001b[38;5;28mself\u001b[39m._configure_polymorphic_setter()\n\u001b[32m--> \u001b[39m\u001b[32m866\u001b[39m \u001b[38;5;28;43mself\u001b[39;49m\u001b[43m.\u001b[49m\u001b[43m_configure_pks\u001b[49m\u001b[43m(\u001b[49m\u001b[43m)\u001b[49m\n\u001b[32m    867\u001b[39m \u001b[38;5;28mself\u001b[39m.registry._flag_new_mapper(\u001b[38;5;28mself\u001b[39m)\n\u001b[32m    868\u001b[39m \u001b[38;5;28mself\u001b[39m._log(\u001b[33m\"\u001b[39m\u001b[33mconstructed\u001b[39m\u001b[33m\"\u001b[39m)\n",
      "\u001b[36mFile \u001b[39m\u001b[32m~/Desktop/Github/fantasy-premier-league/.venv/lib/python3.11/site-packages/sqlalchemy/orm/mapper.py:1652\u001b[39m, in \u001b[36mMapper._configure_pks\u001b[39m\u001b[34m(self)\u001b[39m\n\u001b[32m   1647\u001b[39m \u001b[38;5;66;03m# otherwise, see that we got a full PK for the mapped table\u001b[39;00m\n\u001b[32m   1648\u001b[39m \u001b[38;5;28;01melif\u001b[39;00m (\n\u001b[32m   1649\u001b[39m     \u001b[38;5;28mself\u001b[39m.persist_selectable \u001b[38;5;129;01mnot\u001b[39;00m \u001b[38;5;129;01min\u001b[39;00m \u001b[38;5;28mself\u001b[39m._pks_by_table\n\u001b[32m   1650\u001b[39m     \u001b[38;5;129;01mor\u001b[39;00m \u001b[38;5;28mlen\u001b[39m(\u001b[38;5;28mself\u001b[39m._pks_by_table[\u001b[38;5;28mself\u001b[39m.persist_selectable]) == \u001b[32m0\u001b[39m\n\u001b[32m   1651\u001b[39m ):\n\u001b[32m-> \u001b[39m\u001b[32m1652\u001b[39m     \u001b[38;5;28;01mraise\u001b[39;00m sa_exc.ArgumentError(\n\u001b[32m   1653\u001b[39m         \u001b[33m\"\u001b[39m\u001b[33mMapper \u001b[39m\u001b[38;5;132;01m%s\u001b[39;00m\u001b[33m could not assemble any primary \u001b[39m\u001b[33m\"\u001b[39m\n\u001b[32m   1654\u001b[39m         \u001b[33m\"\u001b[39m\u001b[33mkey columns for mapped table \u001b[39m\u001b[33m'\u001b[39m\u001b[38;5;132;01m%s\u001b[39;00m\u001b[33m'\u001b[39m\u001b[33m\"\u001b[39m\n\u001b[32m   1655\u001b[39m         % (\u001b[38;5;28mself\u001b[39m, \u001b[38;5;28mself\u001b[39m.persist_selectable.description)\n\u001b[32m   1656\u001b[39m     )\n\u001b[32m   1657\u001b[39m \u001b[38;5;28;01melif\u001b[39;00m \u001b[38;5;28mself\u001b[39m.local_table \u001b[38;5;129;01mnot\u001b[39;00m \u001b[38;5;129;01min\u001b[39;00m \u001b[38;5;28mself\u001b[39m._pks_by_table \u001b[38;5;129;01mand\u001b[39;00m \u001b[38;5;28misinstance\u001b[39m(\n\u001b[32m   1658\u001b[39m     \u001b[38;5;28mself\u001b[39m.local_table, schema.Table\n\u001b[32m   1659\u001b[39m ):\n\u001b[32m   1660\u001b[39m     util.warn(\n\u001b[32m   1661\u001b[39m         \u001b[33m\"\u001b[39m\u001b[33mCould not assemble any primary \u001b[39m\u001b[33m\"\u001b[39m\n\u001b[32m   1662\u001b[39m         \u001b[33m\"\u001b[39m\u001b[33mkeys for locally mapped table \u001b[39m\u001b[33m'\u001b[39m\u001b[38;5;132;01m%s\u001b[39;00m\u001b[33m'\u001b[39m\u001b[33m - \u001b[39m\u001b[33m\"\u001b[39m\n\u001b[32m   1663\u001b[39m         \u001b[33m\"\u001b[39m\u001b[33mno rows will be persisted in this Table.\u001b[39m\u001b[33m\"\u001b[39m\n\u001b[32m   1664\u001b[39m         % \u001b[38;5;28mself\u001b[39m.local_table.description\n\u001b[32m   1665\u001b[39m     )\n",
      "\u001b[31mArgumentError\u001b[39m: Mapper Mapper[PlayerGameweekHistory19_20(player_gameweek_history_2019_20)] could not assemble any primary key columns for mapped table 'player_gameweek_history_2019_20'"
     ]
    }
   ],
   "source": [
    "import polars as pl\n",
    "from sqlalchemy import select\n",
    "\n",
    "from fantasy_premier_league.database import get_db_session\n",
    "from fantasy_premier_league.models.player_gameweek_history import PlayerGameweekHistory16_17\n",
    "\n",
    "query = select(PlayerGameweekHistory16_17)\n",
    "\n",
    "with get_db_session() as session:\n",
    "    df = pl.read_database(query, session)\n",
    "\n",
    "df"
   ]
  },
  {
   "cell_type": "code",
   "execution_count": null,
   "id": "ecc3c5d7",
   "metadata": {},
   "outputs": [],
   "source": []
  },
  {
   "cell_type": "code",
   "execution_count": null,
   "id": "74017c63",
   "metadata": {},
   "outputs": [],
   "source": []
  },
  {
   "cell_type": "code",
   "execution_count": null,
   "id": "453e6d44",
   "metadata": {},
   "outputs": [],
   "source": []
  },
  {
   "cell_type": "markdown",
   "id": "f4e5d8b1",
   "metadata": {},
   "source": [
    "x"
   ]
  }
 ],
 "metadata": {
  "kernelspec": {
   "display_name": ".venv",
   "language": "python",
   "name": "python3"
  },
  "language_info": {
   "codemirror_mode": {
    "name": "ipython",
    "version": 3
   },
   "file_extension": ".py",
   "mimetype": "text/x-python",
   "name": "python",
   "nbconvert_exporter": "python",
   "pygments_lexer": "ipython3",
   "version": "3.11.11"
  }
 },
 "nbformat": 4,
 "nbformat_minor": 5
}
