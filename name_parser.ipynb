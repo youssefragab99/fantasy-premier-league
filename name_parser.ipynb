{
 "cells": [
  {
   "cell_type": "markdown",
   "id": "30fd54fd",
   "metadata": {},
   "source": [
    "# Name Parser\n",
    "\n",
    "## Goal\n",
    "\n",
    "- Parse the name of a player into a first name and last name\n",
    "- Standardize the name of all players across all seasons\n",
    "\n",
    "## Methodology \n",
    "- Create a new table with player uuids that will be used across all seasons\n",
    "- This table will have the following columns:\n",
    "    - player_uuid\n",
    "    - first_name\n",
    "    - last_name\n",
    "    - full_name\n"
   ]
  },
  {
   "cell_type": "code",
   "execution_count": 5,
   "id": "997ce28f",
   "metadata": {},
   "outputs": [],
   "source": [
    "import re\n",
    "\n",
    "# Name formats in different seasons\n",
    "s_16_17 = \"First_Last\"\n",
    "s_17_18 = \"First_Last\"\n",
    "s_18_19 = \"First_Last_number\"\n",
    "s_19_20 = \"First_Last_number\"\n",
    "s_20_21 = \"First Last\"\n",
    "s_21_22 = \"First Last\"\n",
    "s_22_23 = \"First Last\"\n",
    "s_23_24 = \"First Last\"\n",
    "\n",
    "name_formats = {\n",
    "    \"player_gameweek_history_2016_17\": s_16_17,\n",
    "    \"player_gameweek_history_2017_18\": s_17_18,\n",
    "    \"player_gameweek_history_2018_19\": s_18_19,\n",
    "    \"player_gameweek_history_2019_20\": s_19_20,\n",
    "    \"player_gameweek_history_2020_21\": s_20_21,\n",
    "    \"player_gameweek_history_2021_22\": s_21_22,\n",
    "    \"player_gameweek_history_2022_23\": s_22_23,\n",
    "    \"player_gameweek_history_2023_24\": s_23_24,\n",
    "}\n",
    "\n",
    "\n",
    "def convert_name(name, season):\n",
    "    name = remove_underscore(name)\n",
    "    name = remove_number(name)\n",
    "    name = remove_special_characters(name)\n",
    "    return name\n",
    "\n",
    "\n",
    "def remove_underscore(name):\n",
    "    return name.replace(\"_\", \" \")\n",
    "\n",
    "\n",
    "def remove_number(name):\n",
    "    return re.sub(r\"\\d+\", \"\", name)\n",
    "\n",
    "\n",
    "def remove_special_characters(name):\n",
    "    return re.sub(r\"[^a-zA-Z0-9\\s]\", \"\", name)"
   ]
  },
  {
   "cell_type": "code",
   "execution_count": 6,
   "id": "38f40250",
   "metadata": {},
   "outputs": [
    {
     "name": "stdout",
     "output_type": "stream",
     "text": [
      "Testing name parsing functions:\n",
      "Original: Mohamed_Salah -> Cleaned: Mohamed Salah\n",
      "Original: Kevin_De_Bruyne -> Cleaned: Kevin De Bruyne\n",
      "Original: Harry_Kane_1 -> Cleaned: Harry Kane \n",
      "Original: Erling_Haaland_2 -> Cleaned: Erling Haaland \n",
      "Original: Bruno_Fernandes -> Cleaned: Bruno Fernandes\n",
      "Original: Son_Heung_min -> Cleaned: Son Heung min\n"
     ]
    }
   ],
   "source": [
    "# Test the name parsing functions first\n",
    "test_names = [\n",
    "    \"Mohamed_Salah\",\n",
    "    \"Kevin_De_Bruyne\",\n",
    "    \"Harry_Kane_1\",\n",
    "    \"Erling_Haaland_2\",\n",
    "    \"Bruno_Fernandes\",\n",
    "    \"Son_Heung_min\",\n",
    "]\n",
    "\n",
    "print(\"Testing name parsing functions:\")\n",
    "for name in test_names:\n",
    "    cleaned = convert_name(name, \"test\")\n",
    "    print(f\"Original: {name} -> Cleaned: {cleaned}\")"
   ]
  },
  {
   "cell_type": "code",
   "execution_count": 7,
   "id": "355f81a6",
   "metadata": {},
   "outputs": [
    {
     "name": "stderr",
     "output_type": "stream",
     "text": [
      "/Users/youssefragab/Desktop/Github/fantasy-premier-league/fantasy_premier_league/models/player_gameweek_history.py:16: SAWarning: This declarative base already contains a class with the same class name and module name as fantasy_premier_league.models.player_gameweek_history.PlayerGameweekHistory16_17, and will be replaced in the string-lookup table.\n",
      "  \"\"\"\n"
     ]
    },
    {
     "ename": "InvalidRequestError",
     "evalue": "Table 'player_gameweek_history_2016_17' is already defined for this MetaData instance.  Specify 'extend_existing=True' to redefine options and columns on an existing Table object.",
     "output_type": "error",
     "traceback": [
      "\u001b[31m---------------------------------------------------------------------------\u001b[39m",
      "\u001b[31mInvalidRequestError\u001b[39m                       Traceback (most recent call last)",
      "\u001b[36mCell\u001b[39m\u001b[36m \u001b[39m\u001b[32mIn[7]\u001b[39m\u001b[32m, line 5\u001b[39m\n\u001b[32m      2\u001b[39m \u001b[38;5;28;01mfrom\u001b[39;00m\u001b[38;5;250m \u001b[39m\u001b[34;01msqlalchemy\u001b[39;00m\u001b[38;5;250m \u001b[39m\u001b[38;5;28;01mimport\u001b[39;00m select\n\u001b[32m      4\u001b[39m \u001b[38;5;28;01mfrom\u001b[39;00m\u001b[38;5;250m \u001b[39m\u001b[34;01mfantasy_premier_league\u001b[39;00m\u001b[34;01m.\u001b[39;00m\u001b[34;01mdatabase\u001b[39;00m\u001b[38;5;250m \u001b[39m\u001b[38;5;28;01mimport\u001b[39;00m get_db_session\n\u001b[32m----> \u001b[39m\u001b[32m5\u001b[39m \u001b[38;5;28;01mfrom\u001b[39;00m\u001b[38;5;250m \u001b[39m\u001b[34;01mfantasy_premier_league\u001b[39;00m\u001b[34;01m.\u001b[39;00m\u001b[34;01mmodels\u001b[39;00m\u001b[34;01m.\u001b[39;00m\u001b[34;01mplayer_gameweek_history\u001b[39;00m\u001b[38;5;250m \u001b[39m\u001b[38;5;28;01mimport\u001b[39;00m PlayerGameweekHistory16_17\n\u001b[32m      7\u001b[39m query = select(PlayerGameweekHistory16_17)\n\u001b[32m      9\u001b[39m \u001b[38;5;28;01mwith\u001b[39;00m get_db_session() \u001b[38;5;28;01mas\u001b[39;00m session:\n",
      "\u001b[36mFile \u001b[39m\u001b[32m~/Desktop/Github/fantasy-premier-league/fantasy_premier_league/models/player_gameweek_history.py:16\u001b[39m\n\u001b[32m     11\u001b[39m \u001b[38;5;28;01mfrom\u001b[39;00m\u001b[38;5;250m \u001b[39m\u001b[34;01msqlalchemy\u001b[39;00m\u001b[34;01m.\u001b[39;00m\u001b[34;01morm\u001b[39;00m\u001b[38;5;250m \u001b[39m\u001b[38;5;28;01mimport\u001b[39;00m Mapped, mapped_column\n\u001b[32m     13\u001b[39m \u001b[38;5;28;01mfrom\u001b[39;00m\u001b[38;5;250m \u001b[39m\u001b[34;01m.\u001b[39;00m\u001b[34;01mbase\u001b[39;00m\u001b[38;5;250m \u001b[39m\u001b[38;5;28;01mimport\u001b[39;00m Base\n\u001b[32m---> \u001b[39m\u001b[32m16\u001b[39m \u001b[38;5;28;43;01mclass\u001b[39;49;00m\u001b[38;5;250;43m \u001b[39;49m\u001b[34;43;01mPlayerGameweekHistory16_17\u001b[39;49;00m\u001b[43m(\u001b[49m\u001b[43mBase\u001b[49m\u001b[43m)\u001b[49m\u001b[43m:\u001b[49m\n\u001b[32m     17\u001b[39m \u001b[38;5;250;43m    \u001b[39;49m\u001b[33;43;03m\"\"\"\u001b[39;49;00m\n\u001b[32m     18\u001b[39m \u001b[33;43;03m    Player gameweek history model representing individual gameweeks.\u001b[39;49;00m\n\u001b[32m     19\u001b[39m \u001b[33;43;03m    \"\"\"\u001b[39;49;00m\n\u001b[32m     21\u001b[39m \u001b[43m    \u001b[49m\u001b[43m__tablename__\u001b[49m\u001b[43m \u001b[49m\u001b[43m=\u001b[49m\u001b[43m \u001b[49m\u001b[33;43m\"\u001b[39;49m\u001b[33;43mplayer_gameweek_history_2016_17\u001b[39;49m\u001b[33;43m\"\u001b[39;49m\n",
      "\u001b[36mFile \u001b[39m\u001b[32m~/Desktop/Github/fantasy-premier-league/.venv/lib/python3.11/site-packages/sqlalchemy/orm/decl_api.py:845\u001b[39m, in \u001b[36mDeclarativeBase.__init_subclass__\u001b[39m\u001b[34m(cls, **kw)\u001b[39m\n\u001b[32m    843\u001b[39m     _setup_declarative_base(\u001b[38;5;28mcls\u001b[39m)\n\u001b[32m    844\u001b[39m \u001b[38;5;28;01melse\u001b[39;00m:\n\u001b[32m--> \u001b[39m\u001b[32m845\u001b[39m     \u001b[43m_as_declarative\u001b[49m\u001b[43m(\u001b[49m\u001b[38;5;28;43mcls\u001b[39;49m\u001b[43m.\u001b[49m\u001b[43m_sa_registry\u001b[49m\u001b[43m,\u001b[49m\u001b[43m \u001b[49m\u001b[38;5;28;43mcls\u001b[39;49m\u001b[43m,\u001b[49m\u001b[43m \u001b[49m\u001b[38;5;28;43mcls\u001b[39;49m\u001b[43m.\u001b[49m\u001b[34;43m__dict__\u001b[39;49m\u001b[43m)\u001b[49m\n\u001b[32m    846\u001b[39m \u001b[38;5;28msuper\u001b[39m().__init_subclass__(**kw)\n",
      "\u001b[36mFile \u001b[39m\u001b[32m~/Desktop/Github/fantasy-premier-league/.venv/lib/python3.11/site-packages/sqlalchemy/orm/decl_base.py:245\u001b[39m, in \u001b[36m_as_declarative\u001b[39m\u001b[34m(registry, cls, dict_)\u001b[39m\n\u001b[32m    240\u001b[39m \u001b[38;5;28;01mdef\u001b[39;00m\u001b[38;5;250m \u001b[39m\u001b[34m_as_declarative\u001b[39m(\n\u001b[32m    241\u001b[39m     registry: _RegistryType, \u001b[38;5;28mcls\u001b[39m: Type[Any], dict_: _ClassDict\n\u001b[32m    242\u001b[39m ) -> Optional[_MapperConfig]:\n\u001b[32m    243\u001b[39m     \u001b[38;5;66;03m# declarative scans the class for attributes.  no table or mapper\u001b[39;00m\n\u001b[32m    244\u001b[39m     \u001b[38;5;66;03m# args passed separately.\u001b[39;00m\n\u001b[32m--> \u001b[39m\u001b[32m245\u001b[39m     \u001b[38;5;28;01mreturn\u001b[39;00m \u001b[43m_MapperConfig\u001b[49m\u001b[43m.\u001b[49m\u001b[43msetup_mapping\u001b[49m\u001b[43m(\u001b[49m\u001b[43mregistry\u001b[49m\u001b[43m,\u001b[49m\u001b[43m \u001b[49m\u001b[38;5;28;43mcls\u001b[39;49m\u001b[43m,\u001b[49m\u001b[43m \u001b[49m\u001b[43mdict_\u001b[49m\u001b[43m,\u001b[49m\u001b[43m \u001b[49m\u001b[38;5;28;43;01mNone\u001b[39;49;00m\u001b[43m,\u001b[49m\u001b[43m \u001b[49m\u001b[43m{\u001b[49m\u001b[43m}\u001b[49m\u001b[43m)\u001b[49m\n",
      "\u001b[36mFile \u001b[39m\u001b[32m~/Desktop/Github/fantasy-premier-league/.venv/lib/python3.11/site-packages/sqlalchemy/orm/decl_base.py:326\u001b[39m, in \u001b[36m_MapperConfig.setup_mapping\u001b[39m\u001b[34m(cls, registry, cls_, dict_, table, mapper_kw)\u001b[39m\n\u001b[32m    322\u001b[39m     \u001b[38;5;28;01mreturn\u001b[39;00m _DeferredMapperConfig(\n\u001b[32m    323\u001b[39m         registry, cls_, dict_, table, mapper_kw\n\u001b[32m    324\u001b[39m     )\n\u001b[32m    325\u001b[39m \u001b[38;5;28;01melse\u001b[39;00m:\n\u001b[32m--> \u001b[39m\u001b[32m326\u001b[39m     \u001b[38;5;28;01mreturn\u001b[39;00m \u001b[43m_ClassScanMapperConfig\u001b[49m\u001b[43m(\u001b[49m\n\u001b[32m    327\u001b[39m \u001b[43m        \u001b[49m\u001b[43mregistry\u001b[49m\u001b[43m,\u001b[49m\u001b[43m \u001b[49m\u001b[43mcls_\u001b[49m\u001b[43m,\u001b[49m\u001b[43m \u001b[49m\u001b[43mdict_\u001b[49m\u001b[43m,\u001b[49m\u001b[43m \u001b[49m\u001b[43mtable\u001b[49m\u001b[43m,\u001b[49m\u001b[43m \u001b[49m\u001b[43mmapper_kw\u001b[49m\n\u001b[32m    328\u001b[39m \u001b[43m    \u001b[49m\u001b[43m)\u001b[49m\n",
      "\u001b[36mFile \u001b[39m\u001b[32m~/Desktop/Github/fantasy-premier-league/.venv/lib/python3.11/site-packages/sqlalchemy/orm/decl_base.py:577\u001b[39m, in \u001b[36m_ClassScanMapperConfig.__init__\u001b[39m\u001b[34m(self, registry, cls_, dict_, table, mapper_kw)\u001b[39m\n\u001b[32m    573\u001b[39m \u001b[38;5;28mself\u001b[39m._extract_mappable_attributes()\n\u001b[32m    575\u001b[39m \u001b[38;5;28mself\u001b[39m._extract_declared_columns()\n\u001b[32m--> \u001b[39m\u001b[32m577\u001b[39m \u001b[38;5;28;43mself\u001b[39;49m\u001b[43m.\u001b[49m\u001b[43m_setup_table\u001b[49m\u001b[43m(\u001b[49m\u001b[43mtable\u001b[49m\u001b[43m)\u001b[49m\n\u001b[32m    579\u001b[39m \u001b[38;5;28mself\u001b[39m._setup_inheriting_columns(mapper_kw)\n\u001b[32m    581\u001b[39m \u001b[38;5;28mself\u001b[39m._early_mapping(mapper_kw)\n",
      "\u001b[36mFile \u001b[39m\u001b[32m~/Desktop/Github/fantasy-premier-league/.venv/lib/python3.11/site-packages/sqlalchemy/orm/decl_base.py:1762\u001b[39m, in \u001b[36m_ClassScanMapperConfig._setup_table\u001b[39m\u001b[34m(self, table)\u001b[39m\n\u001b[32m   1754\u001b[39m             table_kw[\u001b[33m\"\u001b[39m\u001b[33mautoload\u001b[39m\u001b[33m\"\u001b[39m] = \u001b[38;5;28;01mTrue\u001b[39;00m\n\u001b[32m   1756\u001b[39m         sorted_columns = \u001b[38;5;28msorted\u001b[39m(\n\u001b[32m   1757\u001b[39m             declared_columns,\n\u001b[32m   1758\u001b[39m             key=\u001b[38;5;28;01mlambda\u001b[39;00m c: column_ordering.get(c, \u001b[32m0\u001b[39m),\n\u001b[32m   1759\u001b[39m         )\n\u001b[32m   1760\u001b[39m         table = \u001b[38;5;28mself\u001b[39m.set_cls_attribute(\n\u001b[32m   1761\u001b[39m             \u001b[33m\"\u001b[39m\u001b[33m__table__\u001b[39m\u001b[33m\"\u001b[39m,\n\u001b[32m-> \u001b[39m\u001b[32m1762\u001b[39m             \u001b[43mtable_cls\u001b[49m\u001b[43m(\u001b[49m\n\u001b[32m   1763\u001b[39m \u001b[43m                \u001b[49m\u001b[43mtablename\u001b[49m\u001b[43m,\u001b[49m\n\u001b[32m   1764\u001b[39m \u001b[43m                \u001b[49m\u001b[38;5;28;43mself\u001b[39;49m\u001b[43m.\u001b[49m\u001b[43m_metadata_for_cls\u001b[49m\u001b[43m(\u001b[49m\u001b[43mmanager\u001b[49m\u001b[43m)\u001b[49m\u001b[43m,\u001b[49m\n\u001b[32m   1765\u001b[39m \u001b[43m                \u001b[49m\u001b[43m*\u001b[49m\u001b[43msorted_columns\u001b[49m\u001b[43m,\u001b[49m\n\u001b[32m   1766\u001b[39m \u001b[43m                \u001b[49m\u001b[43m*\u001b[49m\u001b[43margs\u001b[49m\u001b[43m,\u001b[49m\n\u001b[32m   1767\u001b[39m \u001b[43m                \u001b[49m\u001b[43m*\u001b[49m\u001b[43m*\u001b[49m\u001b[43mtable_kw\u001b[49m\u001b[43m,\u001b[49m\n\u001b[32m   1768\u001b[39m \u001b[43m            \u001b[49m\u001b[43m)\u001b[49m,\n\u001b[32m   1769\u001b[39m         )\n\u001b[32m   1770\u001b[39m \u001b[38;5;28;01melse\u001b[39;00m:\n\u001b[32m   1771\u001b[39m     \u001b[38;5;28;01mif\u001b[39;00m table \u001b[38;5;129;01mis\u001b[39;00m \u001b[38;5;28;01mNone\u001b[39;00m:\n",
      "\u001b[36mFile \u001b[39m\u001b[32m<string>:2\u001b[39m, in \u001b[36m__new__\u001b[39m\u001b[34m(cls, *args, **kw)\u001b[39m\n",
      "\u001b[36mFile \u001b[39m\u001b[32m~/Desktop/Github/fantasy-premier-league/.venv/lib/python3.11/site-packages/sqlalchemy/util/deprecations.py:281\u001b[39m, in \u001b[36mdeprecated_params.<locals>.decorate.<locals>.warned\u001b[39m\u001b[34m(fn, *args, **kwargs)\u001b[39m\n\u001b[32m    274\u001b[39m     \u001b[38;5;28;01mif\u001b[39;00m m \u001b[38;5;129;01min\u001b[39;00m kwargs:\n\u001b[32m    275\u001b[39m         _warn_with_version(\n\u001b[32m    276\u001b[39m             messages[m],\n\u001b[32m    277\u001b[39m             versions[m],\n\u001b[32m    278\u001b[39m             version_warnings[m],\n\u001b[32m    279\u001b[39m             stacklevel=\u001b[32m3\u001b[39m,\n\u001b[32m    280\u001b[39m         )\n\u001b[32m--> \u001b[39m\u001b[32m281\u001b[39m \u001b[38;5;28;01mreturn\u001b[39;00m \u001b[43mfn\u001b[49m\u001b[43m(\u001b[49m\u001b[43m*\u001b[49m\u001b[43margs\u001b[49m\u001b[43m,\u001b[49m\u001b[43m \u001b[49m\u001b[43m*\u001b[49m\u001b[43m*\u001b[49m\u001b[43mkwargs\u001b[49m\u001b[43m)\u001b[49m\n",
      "\u001b[36mFile \u001b[39m\u001b[32m~/Desktop/Github/fantasy-premier-league/.venv/lib/python3.11/site-packages/sqlalchemy/sql/schema.py:429\u001b[39m, in \u001b[36mTable.__new__\u001b[39m\u001b[34m(cls, *args, **kw)\u001b[39m\n\u001b[32m    422\u001b[39m \u001b[38;5;129m@util\u001b[39m.deprecated_params(\n\u001b[32m    423\u001b[39m     mustexist=(\n\u001b[32m    424\u001b[39m         \u001b[33m\"\u001b[39m\u001b[33m1.4\u001b[39m\u001b[33m\"\u001b[39m,\n\u001b[32m   (...)\u001b[39m\u001b[32m    427\u001b[39m )\n\u001b[32m    428\u001b[39m \u001b[38;5;28;01mdef\u001b[39;00m\u001b[38;5;250m \u001b[39m\u001b[34m__new__\u001b[39m(\u001b[38;5;28mcls\u001b[39m, *args: Any, **kw: Any) -> Any:\n\u001b[32m--> \u001b[39m\u001b[32m429\u001b[39m     \u001b[38;5;28;01mreturn\u001b[39;00m \u001b[38;5;28;43mcls\u001b[39;49m\u001b[43m.\u001b[49m\u001b[43m_new\u001b[49m\u001b[43m(\u001b[49m\u001b[43m*\u001b[49m\u001b[43margs\u001b[49m\u001b[43m,\u001b[49m\u001b[43m \u001b[49m\u001b[43m*\u001b[49m\u001b[43m*\u001b[49m\u001b[43mkw\u001b[49m\u001b[43m)\u001b[49m\n",
      "\u001b[36mFile \u001b[39m\u001b[32m~/Desktop/Github/fantasy-premier-league/.venv/lib/python3.11/site-packages/sqlalchemy/sql/schema.py:461\u001b[39m, in \u001b[36mTable._new\u001b[39m\u001b[34m(cls, *args, **kw)\u001b[39m\n\u001b[32m    459\u001b[39m \u001b[38;5;28;01mif\u001b[39;00m key \u001b[38;5;129;01min\u001b[39;00m metadata.tables:\n\u001b[32m    460\u001b[39m     \u001b[38;5;28;01mif\u001b[39;00m \u001b[38;5;129;01mnot\u001b[39;00m keep_existing \u001b[38;5;129;01mand\u001b[39;00m \u001b[38;5;129;01mnot\u001b[39;00m extend_existing \u001b[38;5;129;01mand\u001b[39;00m \u001b[38;5;28mbool\u001b[39m(args):\n\u001b[32m--> \u001b[39m\u001b[32m461\u001b[39m         \u001b[38;5;28;01mraise\u001b[39;00m exc.InvalidRequestError(\n\u001b[32m    462\u001b[39m             \u001b[33mf\u001b[39m\u001b[33m\"\u001b[39m\u001b[33mTable \u001b[39m\u001b[33m'\u001b[39m\u001b[38;5;132;01m{\u001b[39;00mkey\u001b[38;5;132;01m}\u001b[39;00m\u001b[33m'\u001b[39m\u001b[33m is already defined for this MetaData \u001b[39m\u001b[33m\"\u001b[39m\n\u001b[32m    463\u001b[39m             \u001b[33m\"\u001b[39m\u001b[33minstance.  Specify \u001b[39m\u001b[33m'\u001b[39m\u001b[33mextend_existing=True\u001b[39m\u001b[33m'\u001b[39m\u001b[33m \u001b[39m\u001b[33m\"\u001b[39m\n\u001b[32m    464\u001b[39m             \u001b[33m\"\u001b[39m\u001b[33mto redefine \u001b[39m\u001b[33m\"\u001b[39m\n\u001b[32m    465\u001b[39m             \u001b[33m\"\u001b[39m\u001b[33moptions and columns on an \u001b[39m\u001b[33m\"\u001b[39m\n\u001b[32m    466\u001b[39m             \u001b[33m\"\u001b[39m\u001b[33mexisting Table object.\u001b[39m\u001b[33m\"\u001b[39m\n\u001b[32m    467\u001b[39m         )\n\u001b[32m    468\u001b[39m     table = metadata.tables[key]\n\u001b[32m    469\u001b[39m     \u001b[38;5;28;01mif\u001b[39;00m extend_existing:\n",
      "\u001b[31mInvalidRequestError\u001b[39m: Table 'player_gameweek_history_2016_17' is already defined for this MetaData instance.  Specify 'extend_existing=True' to redefine options and columns on an existing Table object."
     ]
    }
   ],
   "source": [
    "import polars as pl\n",
    "from sqlalchemy import select\n",
    "\n",
    "from fantasy_premier_league.database import get_db_session\n",
    "from fantasy_premier_league.models.player_gameweek_history import PlayerGameweekHistory16_17\n",
    "\n",
    "query = select(PlayerGameweekHistory16_17)\n",
    "\n",
    "with get_db_session() as session:\n",
    "    df = pl.read_database(query, session)\n",
    "\n",
    "df"
   ]
  },
  {
   "cell_type": "markdown",
   "id": "489f73a8",
   "metadata": {},
   "source": []
  },
  {
   "cell_type": "code",
   "execution_count": null,
   "id": "ecc3c5d7",
   "metadata": {},
   "outputs": [],
   "source": []
  },
  {
   "cell_type": "code",
   "execution_count": null,
   "id": "74017c63",
   "metadata": {},
   "outputs": [],
   "source": []
  },
  {
   "cell_type": "code",
   "execution_count": null,
   "id": "453e6d44",
   "metadata": {},
   "outputs": [],
   "source": []
  },
  {
   "cell_type": "markdown",
   "id": "f4e5d8b1",
   "metadata": {},
   "source": [
    "x"
   ]
  }
 ],
 "metadata": {
  "kernelspec": {
   "display_name": ".venv",
   "language": "python",
   "name": "python3"
  },
  "language_info": {
   "codemirror_mode": {
    "name": "ipython",
    "version": 3
   },
   "file_extension": ".py",
   "mimetype": "text/x-python",
   "name": "python",
   "nbconvert_exporter": "python",
   "pygments_lexer": "ipython3",
   "version": "3.11.11"
  }
 },
 "nbformat": 4,
 "nbformat_minor": 5
}
