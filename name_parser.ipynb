{
 "cells": [
  {
   "cell_type": "markdown",
   "id": "30fd54fd",
   "metadata": {},
   "source": [
    "# Name Parser\n",
    "\n",
    "## Goal\n",
    "\n",
    "- Parse the name of a player into a first name and last name\n",
    "- Standardize the name of all players across all seasons\n",
    "\n",
    "## Methodology \n",
    "- Create a new table with player uuids that will be used across all seasons\n",
    "- This table will have the following columns:\n",
    "    - player_uuid\n",
    "    - first_name\n",
    "    - last_name\n",
    "    - full_name\n"
   ]
  },
  {
   "cell_type": "code",
   "execution_count": null,
   "id": "997ce28f",
   "metadata": {},
   "outputs": [],
   "source": [
    "import re\n",
    "\n",
    "# Name formats in different seasons\n",
    "s_16_17 = \"First_Last\"\n",
    "s_17_18 = \"First_Last\"\n",
    "s_18_19 = \"First_Last_number\"\n",
    "s_19_20 = \"First_Last_number\"\n",
    "s_20_21 = \"First Last\"\n",
    "s_21_22 = \"First Last\"\n",
    "s_22_23 = \"First Last\"\n",
    "s_23_24 = \"First Last\"\n",
    "\n",
    "name_formats = {\n",
    "    \"player_gameweek_history_2016_17\": s_16_17,\n",
    "    \"player_gameweek_history_2017_18\": s_17_18,\n",
    "    \"player_gameweek_history_2018_19\": s_18_19,\n",
    "    \"player_gameweek_history_2019_20\": s_19_20,\n",
    "    \"player_gameweek_history_2020_21\": s_20_21,\n",
    "    \"player_gameweek_history_2021_22\": s_21_22,\n",
    "    \"player_gameweek_history_2022_23\": s_22_23,\n",
    "    \"player_gameweek_history_2023_24\": s_23_24,\n",
    "}\n",
    "\n",
    "\n",
    "def convert_name(name, season):\n",
    "    name = remove_underscore(name)\n",
    "    name = remove_number(name)\n",
    "    name = remove_special_characters(name)\n",
    "    return name\n",
    "\n",
    "\n",
    "def remove_underscore(name):\n",
    "    return name.replace(\"_\", \" \")\n",
    "\n",
    "\n",
    "def remove_number(name):\n",
    "    return re.sub(r\"\\d+\", \"\", name)\n",
    "\n",
    "\n",
    "def remove_special_characters(name):\n",
    "    return re.sub(r\"[^a-zA-Z0-9\\s]\", \"\", name)"
   ]
  },
  {
   "cell_type": "markdown",
   "id": "3679c51a",
   "metadata": {},
   "source": []
  }
 ],
 "metadata": {
  "kernelspec": {
   "display_name": ".venv",
   "language": "python",
   "name": "python3"
  },
  "language_info": {
   "name": "python",
   "version": "3.11.11"
  }
 },
 "nbformat": 4,
 "nbformat_minor": 5
}
